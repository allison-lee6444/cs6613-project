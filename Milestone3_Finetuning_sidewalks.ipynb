{
 "cells": [
  {
   "metadata": {},
   "cell_type": "markdown",
   "source": [
    "# Milestone 3: Finetune the model with sidewalks dataset\n",
    "\n",
    "First, please manually copy the extracted sidewalks data to the current folder."
   ],
   "id": "1652686c3b855817"
  },
  {
   "metadata": {},
   "cell_type": "code",
   "outputs": [],
   "execution_count": null,
   "source": [
    "import numpy as np\n",
    "import matplotlib.pyplot as plt\n",
    "import tifffile\n",
    "import os\n",
    "import random\n",
    "from scipy import ndimage\n",
    "from pathlib import Path"
   ],
   "id": "e0d8ffd2375518cd"
  },
  {
   "metadata": {},
   "cell_type": "markdown",
   "source": "Plot a sample test file and the label",
   "id": "3d7ee282cd34a700"
  },
  {
   "metadata": {},
   "cell_type": "code",
   "outputs": [],
   "execution_count": null,
   "source": "",
   "id": "ab7183b674bfbe42"
  }
 ],
 "metadata": {
  "kernelspec": {
   "display_name": "Python 3",
   "language": "python",
   "name": "python3"
  },
  "language_info": {
   "codemirror_mode": {
    "name": "ipython",
    "version": 2
   },
   "file_extension": ".py",
   "mimetype": "text/x-python",
   "name": "python",
   "nbconvert_exporter": "python",
   "pygments_lexer": "ipython2",
   "version": "2.7.6"
  }
 },
 "nbformat": 4,
 "nbformat_minor": 5
}
